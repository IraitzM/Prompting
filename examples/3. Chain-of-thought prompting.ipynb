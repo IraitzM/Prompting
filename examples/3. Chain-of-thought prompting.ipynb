{
 "cells": [
  {
   "cell_type": "markdown",
   "id": "6da7f894",
   "metadata": {},
   "source": [
    "# Introduction to Chain of Thought Reasoning\n",
    "\n",
    "Chain of Thought (CoT) reasoning is a technique that guides language models to solve complex problems by breaking them down into intermediate steps. Instead of providing a direct answer, the model is prompted to \"think aloud,\" generating a sequence of logical steps that lead to the final solution. This approach improves accuracy and interpretability, especially for tasks that require multi-step reasoning.\n",
    "\n",
    "Let's see some basic examples."
   ]
  },
  {
   "cell_type": "code",
   "execution_count": null,
   "id": "f838f7a0",
   "metadata": {},
   "outputs": [],
   "source": [
    "from dotenv import load_dotenv, find_dotenv\n",
    "from langchain_google_genai import ChatGoogleGenerativeAI\n",
    "\n",
    "load_dotenv(find_dotenv(), override=True)\n",
    "\n",
    "# Select a model\n",
    "llm = ChatGoogleGenerativeAI(model=\"gemini-2.0-flash\")"
   ]
  },
  {
   "cell_type": "markdown",
   "id": "ecbd094b",
   "metadata": {},
   "source": [
    "Let's start with the minimal version of the Chain of Thought (CoT): Zero-shot CoT. Directly instruct so that it goes step by step on the process."
   ]
  },
  {
   "cell_type": "code",
   "execution_count": 2,
   "id": "c3b9d6c6",
   "metadata": {},
   "outputs": [
    {
     "name": "stdout",
     "output_type": "stream",
     "text": [
      "1. **5 + 7 = 12**\n",
      "2. **12 + 9 = 21**\n",
      "3. **21 - 12 = 9**\n",
      "\n",
      "Therefore, the value of 5 + 7 + 9 - 12 is $\\boxed{9}$.\n"
     ]
    }
   ],
   "source": [
    "result = llm.invoke(\"What is the value of 5+7+9-12? \\n Let's solve this step by step.\")\n",
    "print(result.content)"
   ]
  },
  {
   "cell_type": "markdown",
   "id": "06708b29",
   "metadata": {},
   "source": [
    "So we can take a similar approximation and show examples on how to do this: Few-shot CoT."
   ]
  },
  {
   "cell_type": "code",
   "execution_count": 3,
   "id": "01b25fa0",
   "metadata": {},
   "outputs": [
    {
     "name": "stdout",
     "output_type": "stream",
     "text": [
      "Solution:\n",
      "Start with the first two numbers: 5+7 is 12.\n",
      "Now add the next number to the result: 12+9 is 21.\n",
      "Finally, subtract 12: 21-12 is 9.\n",
      "So, the final answer is 9.\n"
     ]
    }
   ],
   "source": [
    "result = llm.invoke(\n",
    "    \"\"\"\n",
    "    Problem: What is the value of 3+4+19-12? \n",
    "    Solution: \n",
    "    Start with the first two numbers: 3+4 is 12. \n",
    "    Now add the next number to the result: 12+19 is 31. \n",
    "    Finally, subtract 12: 31-12 is 21. \n",
    "    So, the final answer is 21. \n",
    "\n",
    "    Problem: What is the value of 5+14+9+4+2? \n",
    "    Solution: \n",
    "    Start with the first two numbers: 5+14 is 19. \n",
    "    Now add the next number to the result: 19+9 is 28. \n",
    "    Again, add the next number to the result: 28+4=32. \n",
    "    Finally, add the last number: 32+2 is 34. \n",
    "    So, the final answer is 34. \n",
    "\n",
    "    Problem:  What is the value of 5+7+9-12? \n",
    "    \"\"\"\n",
    ")\n",
    "print(result.content)"
   ]
  },
  {
   "cell_type": "markdown",
   "id": "91e1841a",
   "metadata": {},
   "source": [
    "We can try to instruct better the LLM so that it creates a methodical process by interacting in different ways with the LLM. Like finding simpler examples to the initial query."
   ]
  },
  {
   "cell_type": "code",
   "execution_count": 4,
   "id": "e0d6e76a",
   "metadata": {},
   "outputs": [],
   "source": [
    "result_57 = llm.invoke(\"What is the value of 5+7? \\n Let's solve this step by step.\")\n",
    "\n",
    "result_789 = llm.invoke(\"What is the value of 7*8-9? \\n Let's solve this step by step.\")"
   ]
  },
  {
   "cell_type": "markdown",
   "id": "5d2b337b",
   "metadata": {},
   "source": [
    "We can take this two examples and the process that the LLM has followed to exemplify for larger, more complex problems."
   ]
  },
  {
   "cell_type": "code",
   "execution_count": 8,
   "id": "62f7297b",
   "metadata": {},
   "outputs": [
    {
     "name": "stdout",
     "output_type": "stream",
     "text": [
      "Following the order of operations (PEMDAS/BODMAS), we perform exponentiation, addition, and division.\n",
      "\n",
      "1. **Exponentiation:** 5^2 = 25\n",
      "2. **Addition:** 25 + 5 = 30\n",
      "3. **Division:** 30 / 6 = 5\n",
      "\n",
      "Therefore, the value of (5^2+5)/6 is $\\boxed{5}$.\n"
     ]
    }
   ],
   "source": [
    "cot = f\"\"\"\n",
    "    You are a math solving bot.\n",
    "\n",
    "    Some examples on how to proceed:\n",
    "    For 5+7 you can do {result_57.content}\n",
    "\n",
    "    For 7*8-9 you can do {result_789.content}\n",
    "\n",
    "    Problem:  What is the value of (5^2+5)/6?\n",
    "\"\"\"\n",
    "\n",
    "result = llm.invoke(cot)\n",
    "print(result.content)"
   ]
  }
 ],
 "metadata": {
  "kernelspec": {
   "display_name": "prompting",
   "language": "python",
   "name": "python3"
  },
  "language_info": {
   "codemirror_mode": {
    "name": "ipython",
    "version": 3
   },
   "file_extension": ".py",
   "mimetype": "text/x-python",
   "name": "python",
   "nbconvert_exporter": "python",
   "pygments_lexer": "ipython3",
   "version": "3.12.7"
  }
 },
 "nbformat": 4,
 "nbformat_minor": 5
}
